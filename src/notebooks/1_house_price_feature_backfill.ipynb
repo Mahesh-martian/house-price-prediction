{
  "cells": [
    {
      "cell_type": "markdown",
      "metadata": {
        "id": "xG_KPxN8pocf"
      },
      "source": [
        "<a target=\"_blank\" href=\"https://colab.research.google.com/github/jackma-00/house-price-prediction/blob/main/experiments/1_house_price_feature_backfill.ipynb\">\n",
        "  <img src=\"https://colab.research.google.com/assets/colab-badge.svg\" alt=\"Open In Colab\"/>\n",
        "</a>"
      ]
    },
    {
      "cell_type": "markdown",
      "metadata": {
        "id": "UX5sWXeWzAig"
      },
      "source": [
        "# <span style=\"font-width:bold; font-size: 3rem; color:#333;\">Feature Backfill<span>"
      ]
    },
    {
      "cell_type": "markdown",
      "metadata": {
        "id": "i7H4s40520lp"
      },
      "source": [
        "Installing required packages"
      ]
    },
    {
      "cell_type": "code",
      "execution_count": 1,
      "metadata": {
        "colab": {
          "base_uri": "https://localhost:8080/"
        },
        "id": "spFy5q_P2yuI",
        "outputId": "d63e0759-b79f-4f5d-e876-c4df509481f6"
      },
      "outputs": [
        {
          "name": "stdout",
          "output_type": "stream",
          "text": [
            "Collecting hopsworks[python]\n",
            "  Downloading hopsworks-4.1.4-py3-none-any.whl.metadata (11 kB)\n",
            "Collecting pyhumps==1.6.1 (from hopsworks[python])\n",
            "  Downloading pyhumps-1.6.1-py3-none-any.whl.metadata (3.7 kB)\n",
            "Requirement already satisfied: requests in /usr/local/lib/python3.10/dist-packages (from hopsworks[python]) (2.32.3)\n",
            "Collecting furl (from hopsworks[python])\n",
            "  Downloading furl-2.1.3-py2.py3-none-any.whl.metadata (1.2 kB)\n",
            "Collecting boto3 (from hopsworks[python])\n",
            "  Downloading boto3-1.35.85-py3-none-any.whl.metadata (6.7 kB)\n",
            "Collecting pandas<2.2.0 (from hopsworks[python])\n",
            "  Downloading pandas-2.1.4-cp310-cp310-manylinux_2_17_x86_64.manylinux2014_x86_64.whl.metadata (18 kB)\n",
            "Collecting pyjks (from hopsworks[python])\n",
            "  Downloading pyjks-20.0.0-py2.py3-none-any.whl.metadata (1.7 kB)\n",
            "Collecting mock (from hopsworks[python])\n",
            "  Downloading mock-5.1.0-py3-none-any.whl.metadata (3.0 kB)\n",
            "Collecting avro==1.11.3 (from hopsworks[python])\n",
            "  Downloading avro-1.11.3.tar.gz (90 kB)\n",
            "\u001b[2K     \u001b[90m━━━━━━━━━━━━━━━━━━━━━━━━━━━━━━━━━━━━━━━━\u001b[0m \u001b[32m90.6/90.6 kB\u001b[0m \u001b[31m4.3 MB/s\u001b[0m eta \u001b[36m0:00:00\u001b[0m\n",
            "\u001b[?25h  Installing build dependencies ... \u001b[?25l\u001b[?25hdone\n",
            "  Getting requirements to build wheel ... \u001b[?25l\u001b[?25hdone\n",
            "  Preparing metadata (pyproject.toml) ... \u001b[?25l\u001b[?25hdone\n",
            "Requirement already satisfied: sqlalchemy in /usr/local/lib/python3.10/dist-packages (from hopsworks[python]) (2.0.36)\n",
            "Collecting PyMySQL[rsa] (from hopsworks[python])\n",
            "  Downloading PyMySQL-1.1.1-py3-none-any.whl.metadata (4.4 kB)\n",
            "Requirement already satisfied: tzlocal in /usr/local/lib/python3.10/dist-packages (from hopsworks[python]) (5.2)\n",
            "Requirement already satisfied: fsspec in /usr/local/lib/python3.10/dist-packages (from hopsworks[python]) (2024.10.0)\n",
            "Collecting retrying (from hopsworks[python])\n",
            "  Downloading retrying-1.3.4-py3-none-any.whl.metadata (6.9 kB)\n",
            "Collecting hopsworks_aiomysql==0.2.1 (from hopsworks_aiomysql[sa]==0.2.1->hopsworks[python])\n",
            "  Downloading hopsworks_aiomysql-0.2.1-py3-none-any.whl.metadata (11 kB)\n",
            "Collecting opensearch-py<=2.4.2,>=1.1.0 (from hopsworks[python])\n",
            "  Downloading opensearch_py-2.4.2-py2.py3-none-any.whl.metadata (6.8 kB)\n",
            "Requirement already satisfied: tqdm in /usr/local/lib/python3.10/dist-packages (from hopsworks[python]) (4.67.1)\n",
            "Requirement already satisfied: grpcio<2.0.0,>=1.49.1 in /usr/local/lib/python3.10/dist-packages (from hopsworks[python]) (1.68.1)\n",
            "Requirement already satisfied: protobuf<5.0.0,>=4.25.4 in /usr/local/lib/python3.10/dist-packages (from hopsworks[python]) (4.25.5)\n",
            "Requirement already satisfied: numpy<2 in /usr/local/lib/python3.10/dist-packages (from hopsworks[python]) (1.26.4)\n",
            "Requirement already satisfied: pyarrow>=10.0 in /usr/local/lib/python3.10/dist-packages (from hopsworks[python]) (17.0.0)\n",
            "Collecting confluent-kafka<=2.3.0 (from hopsworks[python])\n",
            "  Downloading confluent_kafka-2.3.0-cp310-cp310-manylinux_2_17_x86_64.manylinux2014_x86_64.whl.metadata (2.3 kB)\n",
            "Collecting fastavro<=1.8.4,>=1.4.11 (from hopsworks[python])\n",
            "  Downloading fastavro-1.8.4-cp310-cp310-manylinux_2_17_x86_64.manylinux2014_x86_64.whl.metadata (5.5 kB)\n",
            "Collecting sqlalchemy (from hopsworks[python])\n",
            "  Downloading SQLAlchemy-2.0.29-cp310-cp310-manylinux_2_17_x86_64.manylinux2014_x86_64.whl.metadata (9.6 kB)\n",
            "Requirement already satisfied: urllib3>=1.26.18 in /usr/local/lib/python3.10/dist-packages (from opensearch-py<=2.4.2,>=1.1.0->hopsworks[python]) (2.2.3)\n",
            "Requirement already satisfied: six in /usr/local/lib/python3.10/dist-packages (from opensearch-py<=2.4.2,>=1.1.0->hopsworks[python]) (1.17.0)\n",
            "Requirement already satisfied: python-dateutil in /usr/local/lib/python3.10/dist-packages (from opensearch-py<=2.4.2,>=1.1.0->hopsworks[python]) (2.8.2)\n",
            "Requirement already satisfied: certifi>=2022.12.07 in /usr/local/lib/python3.10/dist-packages (from opensearch-py<=2.4.2,>=1.1.0->hopsworks[python]) (2024.12.14)\n",
            "Requirement already satisfied: pytz>=2020.1 in /usr/local/lib/python3.10/dist-packages (from pandas<2.2.0->hopsworks[python]) (2024.2)\n",
            "Requirement already satisfied: tzdata>=2022.1 in /usr/local/lib/python3.10/dist-packages (from pandas<2.2.0->hopsworks[python]) (2024.2)\n",
            "Requirement already satisfied: charset-normalizer<4,>=2 in /usr/local/lib/python3.10/dist-packages (from requests->hopsworks[python]) (3.4.0)\n",
            "Requirement already satisfied: idna<4,>=2.5 in /usr/local/lib/python3.10/dist-packages (from requests->hopsworks[python]) (3.10)\n",
            "Requirement already satisfied: typing-extensions>=4.6.0 in /usr/local/lib/python3.10/dist-packages (from sqlalchemy->hopsworks[python]) (4.12.2)\n",
            "Requirement already satisfied: greenlet!=0.4.17 in /usr/local/lib/python3.10/dist-packages (from sqlalchemy->hopsworks[python]) (3.1.1)\n",
            "Collecting botocore<1.36.0,>=1.35.85 (from boto3->hopsworks[python])\n",
            "  Downloading botocore-1.35.85-py3-none-any.whl.metadata (5.7 kB)\n",
            "Collecting jmespath<2.0.0,>=0.7.1 (from boto3->hopsworks[python])\n",
            "  Downloading jmespath-1.0.1-py3-none-any.whl.metadata (7.6 kB)\n",
            "Collecting s3transfer<0.11.0,>=0.10.0 (from boto3->hopsworks[python])\n",
            "  Downloading s3transfer-0.10.4-py3-none-any.whl.metadata (1.7 kB)\n",
            "Collecting orderedmultidict>=1.0.1 (from furl->hopsworks[python])\n",
            "  Downloading orderedmultidict-1.0.1-py2.py3-none-any.whl.metadata (1.3 kB)\n",
            "Collecting javaobj-py3 (from pyjks->hopsworks[python])\n",
            "  Downloading javaobj_py3-0.4.4-py2.py3-none-any.whl.metadata (17 kB)\n",
            "Requirement already satisfied: pyasn1>=0.3.5 in /usr/local/lib/python3.10/dist-packages (from pyjks->hopsworks[python]) (0.6.1)\n",
            "Requirement already satisfied: pyasn1-modules in /usr/local/lib/python3.10/dist-packages (from pyjks->hopsworks[python]) (0.4.1)\n",
            "Collecting pycryptodomex (from pyjks->hopsworks[python])\n",
            "  Downloading pycryptodomex-3.21.0-cp36-abi3-manylinux_2_17_x86_64.manylinux2014_x86_64.whl.metadata (3.4 kB)\n",
            "Collecting twofish (from pyjks->hopsworks[python])\n",
            "  Downloading twofish-0.3.0.tar.gz (26 kB)\n",
            "  Preparing metadata (setup.py) ... \u001b[?25l\u001b[?25hdone\n",
            "Requirement already satisfied: cryptography in /usr/local/lib/python3.10/dist-packages (from PyMySQL[rsa]->hopsworks[python]) (43.0.3)\n",
            "Requirement already satisfied: cffi>=1.12 in /usr/local/lib/python3.10/dist-packages (from cryptography->PyMySQL[rsa]->hopsworks[python]) (1.17.1)\n",
            "Requirement already satisfied: pycparser in /usr/local/lib/python3.10/dist-packages (from cffi>=1.12->cryptography->PyMySQL[rsa]->hopsworks[python]) (2.22)\n",
            "Downloading hopsworks_aiomysql-0.2.1-py3-none-any.whl (44 kB)\n",
            "\u001b[2K   \u001b[90m━━━━━━━━━━━━━━━━━━━━━━━━━━━━━━━━━━━━━━━━\u001b[0m \u001b[32m44.2/44.2 kB\u001b[0m \u001b[31m2.9 MB/s\u001b[0m eta \u001b[36m0:00:00\u001b[0m\n",
            "\u001b[?25hDownloading pyhumps-1.6.1-py3-none-any.whl (5.0 kB)\n",
            "Downloading confluent_kafka-2.3.0-cp310-cp310-manylinux_2_17_x86_64.manylinux2014_x86_64.whl (4.0 MB)\n",
            "\u001b[2K   \u001b[90m━━━━━━━━━━━━━━━━━━━━━━━━━━━━━━━━━━━━━━━━\u001b[0m \u001b[32m4.0/4.0 MB\u001b[0m \u001b[31m49.6 MB/s\u001b[0m eta \u001b[36m0:00:00\u001b[0m\n",
            "\u001b[?25hDownloading fastavro-1.8.4-cp310-cp310-manylinux_2_17_x86_64.manylinux2014_x86_64.whl (3.0 MB)\n",
            "\u001b[2K   \u001b[90m━━━━━━━━━━━━━━━━━━━━━━━━━━━━━━━━━━━━━━━━\u001b[0m \u001b[32m3.0/3.0 MB\u001b[0m \u001b[31m59.8 MB/s\u001b[0m eta \u001b[36m0:00:00\u001b[0m\n",
            "\u001b[?25hDownloading opensearch_py-2.4.2-py2.py3-none-any.whl (258 kB)\n",
            "\u001b[2K   \u001b[90m━━━━━━━━━━━━━━━━━━━━━━━━━━━━━━━━━━━━━━━━\u001b[0m \u001b[32m258.6/258.6 kB\u001b[0m \u001b[31m18.0 MB/s\u001b[0m eta \u001b[36m0:00:00\u001b[0m\n",
            "\u001b[?25hDownloading pandas-2.1.4-cp310-cp310-manylinux_2_17_x86_64.manylinux2014_x86_64.whl (12.3 MB)\n",
            "\u001b[2K   \u001b[90m━━━━━━━━━━━━━━━━━━━━━━━━━━━━━━━━━━━━━━━━\u001b[0m \u001b[32m12.3/12.3 MB\u001b[0m \u001b[31m89.1 MB/s\u001b[0m eta \u001b[36m0:00:00\u001b[0m\n",
            "\u001b[?25hDownloading SQLAlchemy-2.0.29-cp310-cp310-manylinux_2_17_x86_64.manylinux2014_x86_64.whl (3.1 MB)\n",
            "\u001b[2K   \u001b[90m━━━━━━━━━━━━━━━━━━━━━━━━━━━━━━━━━━━━━━━━\u001b[0m \u001b[32m3.1/3.1 MB\u001b[0m \u001b[31m79.7 MB/s\u001b[0m eta \u001b[36m0:00:00\u001b[0m\n",
            "\u001b[?25hDownloading boto3-1.35.85-py3-none-any.whl (139 kB)\n",
            "\u001b[2K   \u001b[90m━━━━━━━━━━━━━━━━━━━━━━━━━━━━━━━━━━━━━━━━\u001b[0m \u001b[32m139.2/139.2 kB\u001b[0m \u001b[31m10.3 MB/s\u001b[0m eta \u001b[36m0:00:00\u001b[0m\n",
            "\u001b[?25hDownloading furl-2.1.3-py2.py3-none-any.whl (20 kB)\n",
            "Downloading hopsworks-4.1.4-py3-none-any.whl (640 kB)\n",
            "\u001b[2K   \u001b[90m━━━━━━━━━━━━━━━━━━━━━━━━━━━━━━━━━━━━━━━━\u001b[0m \u001b[32m640.3/640.3 kB\u001b[0m \u001b[31m37.4 MB/s\u001b[0m eta \u001b[36m0:00:00\u001b[0m\n",
            "\u001b[?25hDownloading mock-5.1.0-py3-none-any.whl (30 kB)\n",
            "Downloading pyjks-20.0.0-py2.py3-none-any.whl (45 kB)\n",
            "\u001b[2K   \u001b[90m━━━━━━━━━━━━━━━━━━━━━━━━━━━━━━━━━━━━━━━━\u001b[0m \u001b[32m45.3/45.3 kB\u001b[0m \u001b[31m3.0 MB/s\u001b[0m eta \u001b[36m0:00:00\u001b[0m\n",
            "\u001b[?25hDownloading retrying-1.3.4-py3-none-any.whl (11 kB)\n",
            "Downloading botocore-1.35.85-py3-none-any.whl (13.3 MB)\n",
            "\u001b[2K   \u001b[90m━━━━━━━━━━━━━━━━━━━━━━━━━━━━━━━━━━━━━━━━\u001b[0m \u001b[32m13.3/13.3 MB\u001b[0m \u001b[31m82.8 MB/s\u001b[0m eta \u001b[36m0:00:00\u001b[0m\n",
            "\u001b[?25hDownloading jmespath-1.0.1-py3-none-any.whl (20 kB)\n",
            "Downloading orderedmultidict-1.0.1-py2.py3-none-any.whl (11 kB)\n",
            "Downloading PyMySQL-1.1.1-py3-none-any.whl (44 kB)\n",
            "\u001b[2K   \u001b[90m━━━━━━━━━━━━━━━━━━━━━━━━━━━━━━━━━━━━━━━━\u001b[0m \u001b[32m45.0/45.0 kB\u001b[0m \u001b[31m2.9 MB/s\u001b[0m eta \u001b[36m0:00:00\u001b[0m\n",
            "\u001b[?25hDownloading s3transfer-0.10.4-py3-none-any.whl (83 kB)\n",
            "\u001b[2K   \u001b[90m━━━━━━━━━━━━━━━━━━━━━━━━━━━━━━━━━━━━━━━━\u001b[0m \u001b[32m83.2/83.2 kB\u001b[0m \u001b[31m7.0 MB/s\u001b[0m eta \u001b[36m0:00:00\u001b[0m\n",
            "\u001b[?25hDownloading javaobj_py3-0.4.4-py2.py3-none-any.whl (57 kB)\n",
            "\u001b[2K   \u001b[90m━━━━━━━━━━━━━━━━━━━━━━━━━━━━━━━━━━━━━━━━\u001b[0m \u001b[32m57.1/57.1 kB\u001b[0m \u001b[31m4.2 MB/s\u001b[0m eta \u001b[36m0:00:00\u001b[0m\n",
            "\u001b[?25hDownloading pycryptodomex-3.21.0-cp36-abi3-manylinux_2_17_x86_64.manylinux2014_x86_64.whl (2.3 MB)\n",
            "\u001b[2K   \u001b[90m━━━━━━━━━━━━━━━━━━━━━━━━━━━━━━━━━━━━━━━━\u001b[0m \u001b[32m2.3/2.3 MB\u001b[0m \u001b[31m61.5 MB/s\u001b[0m eta \u001b[36m0:00:00\u001b[0m\n",
            "\u001b[?25hBuilding wheels for collected packages: avro, twofish\n",
            "  Building wheel for avro (pyproject.toml) ... \u001b[?25l\u001b[?25hdone\n",
            "  Created wheel for avro: filename=avro-1.11.3-py2.py3-none-any.whl size=123910 sha256=9815cb7b0e1f792164382e5573560efd462c344cf1ae7c90ad5dba7bd1ba5af0\n",
            "  Stored in directory: /root/.cache/pip/wheels/1d/f6/41/0e0399396af07060e64d4e32c8bd259b48b98a4a114df31294\n",
            "  Building wheel for twofish (setup.py) ... \u001b[?25l\u001b[?25hdone\n",
            "  Created wheel for twofish: filename=twofish-0.3.0-cp310-cp310-linux_x86_64.whl size=24197 sha256=1b412a8aeed10e0ee71b4859c5c4f37fdc71840772cdbe5b6f3e19c18580ae63\n",
            "  Stored in directory: /root/.cache/pip/wheels/a7/3c/27/c390be4f3e8a299d4b2836f8daa19697eb991eacbfabe25031\n",
            "Successfully built avro twofish\n",
            "Installing collected packages: twofish, pyhumps, javaobj-py3, confluent-kafka, sqlalchemy, retrying, PyMySQL, pycryptodomex, orderedmultidict, mock, jmespath, fastavro, avro, pyjks, pandas, opensearch-py, hopsworks_aiomysql, furl, botocore, s3transfer, boto3, hopsworks\n",
            "  Attempting uninstall: sqlalchemy\n",
            "    Found existing installation: SQLAlchemy 2.0.36\n",
            "    Uninstalling SQLAlchemy-2.0.36:\n",
            "      Successfully uninstalled SQLAlchemy-2.0.36\n",
            "  Attempting uninstall: pandas\n",
            "    Found existing installation: pandas 2.2.2\n",
            "    Uninstalling pandas-2.2.2:\n",
            "      Successfully uninstalled pandas-2.2.2\n",
            "\u001b[31mERROR: pip's dependency resolver does not currently take into account all the packages that are installed. This behaviour is the source of the following dependency conflicts.\n",
            "google-colab 1.0.0 requires pandas==2.2.2, but you have pandas 2.1.4 which is incompatible.\n",
            "mizani 0.13.1 requires pandas>=2.2.0, but you have pandas 2.1.4 which is incompatible.\n",
            "plotnine 0.14.4 requires pandas>=2.2.0, but you have pandas 2.1.4 which is incompatible.\u001b[0m\u001b[31m\n",
            "\u001b[0mSuccessfully installed PyMySQL-1.1.1 avro-1.11.3 boto3-1.35.85 botocore-1.35.85 confluent-kafka-2.3.0 fastavro-1.8.4 furl-2.1.3 hopsworks-4.1.4 hopsworks_aiomysql-0.2.1 javaobj-py3-0.4.4 jmespath-1.0.1 mock-5.1.0 opensearch-py-2.4.2 orderedmultidict-1.0.1 pandas-2.1.4 pycryptodomex-3.21.0 pyhumps-1.6.1 pyjks-20.0.0 retrying-1.3.4 s3transfer-0.10.4 sqlalchemy-2.0.29 twofish-0.3.0\n"
          ]
        }
      ],
      "source": [
        "!pip install hopsworks[python]"
      ]
    },
    {
      "cell_type": "markdown",
      "metadata": {
        "id": "kbggudF61TAW"
      },
      "source": [
        "### Imports"
      ]
    },
    {
      "cell_type": "code",
      "execution_count": 1,
      "metadata": {
        "id": "-6hujby21SU8"
      },
      "outputs": [
        {
          "name": "stderr",
          "output_type": "stream",
          "text": [
            "e:\\Learning\\house-price-prediction\\housepredenv\\lib\\site-packages\\tqdm\\auto.py:21: TqdmWarning: IProgress not found. Please update jupyter and ipywidgets. See https://ipywidgets.readthedocs.io/en/stable/user_install.html\n",
            "  from .autonotebook import tqdm as notebook_tqdm\n"
          ]
        }
      ],
      "source": [
        "import pandas as pd\n",
        "import hopsworks\n",
        "import os\n",
        "\n",
        "import warnings\n",
        "warnings.filterwarnings(\"ignore\")\n",
        "\n",
        "from dotenv import load_dotenv"
      ]
    },
    {
      "cell_type": "markdown",
      "metadata": {
        "id": "5pDscrhJ16R3"
      },
      "source": [
        "### <span style='color:#ff5f27'> Connect to Hopsworks Feature Store"
      ]
    },
    {
      "cell_type": "code",
      "execution_count": 4,
      "metadata": {
        "colab": {
          "base_uri": "https://localhost:8080/"
        },
        "id": "VIdfHiNc19wN",
        "outputId": "3287923a-a16e-4529-ac5d-b8f1333e4083"
      },
      "outputs": [
        {
          "data": {
            "text/plain": [
              "'gDvedjVbjxyLtag0.79Zt3ihFkMl2s5e62kZQmOR47WHuT36x3BpdmLf3PalB0265CaXFwcxWUBZPnk37'"
            ]
          },
          "execution_count": 4,
          "metadata": {},
          "output_type": "execute_result"
        }
      ],
      "source": [
        "# If you haven't set the env variable 'HOPSWORKS_API_KEY', then uncomment the next line and enter your API key\n",
        "# os.environ[\"HOPSWORKS_API_KEY\"] = \"\"\n",
        "load_dotenv()\n",
        "\n",
        "os.environ[\"HOPSWORKS_API_KEY\"]\n"
      ]
    },
    {
      "cell_type": "code",
      "execution_count": 7,
      "metadata": {},
      "outputs": [
        {
          "data": {
            "text/plain": [
              "Project('TestProj1', 'maheshkumar201095@gmail.com', 'Default project')"
            ]
          },
          "execution_count": 7,
          "metadata": {},
          "output_type": "execute_result"
        }
      ],
      "source": [
        "hopsworks.get_current_project()"
      ]
    },
    {
      "cell_type": "code",
      "execution_count": 6,
      "metadata": {},
      "outputs": [
        {
          "name": "stdout",
          "output_type": "stream",
          "text": [
            "2025-04-15 20:47:13,418 INFO: Initializing external client\n",
            "2025-04-15 20:47:13,419 INFO: Base URL: https://c.app.hopsworks.ai:443\n",
            "2025-04-15 20:47:18,302 INFO: Python Engine initialized.\n",
            "\n",
            "Logged in to project, explore it here https://c.app.hopsworks.ai:443/p/1222838\n"
          ]
        }
      ],
      "source": [
        "proj = hopsworks.login(api_key_value='gDvedjVbjxyLtag0.79Zt3ihFkMl2s5e62kZQmOR47WHuT36x3BpdmLf3PalB0265CaXFwcxWUBZPnk37')"
      ]
    },
    {
      "cell_type": "markdown",
      "metadata": {
        "id": "aGB0c_sy4I2j"
      },
      "source": [
        "## <span style=\"color:#ff5f27;\"> 💽 Loading the Data </span>"
      ]
    },
    {
      "cell_type": "code",
      "execution_count": 16,
      "metadata": {
        "id": "8V5vin2va6cj"
      },
      "outputs": [],
      "source": [
        "# Load properties CSV into Dataframe\n",
        "properties_csv = r'E:\\Learning\\house-price-prediction\\src\\data_scrapper\\realtor-data.csv'\n",
        "properties_df = pd.read_csv(properties_csv)"
      ]
    },
    {
      "cell_type": "code",
      "execution_count": 17,
      "metadata": {
        "colab": {
          "base_uri": "https://localhost:8080/",
          "height": 1000
        },
        "id": "nYWsp7hj4uE7",
        "outputId": "b7017750-4fd8-468f-9507-537c162a8e99"
      },
      "outputs": [
        {
          "data": {
            "text/html": [
              "<div>\n",
              "<style scoped>\n",
              "    .dataframe tbody tr th:only-of-type {\n",
              "        vertical-align: middle;\n",
              "    }\n",
              "\n",
              "    .dataframe tbody tr th {\n",
              "        vertical-align: top;\n",
              "    }\n",
              "\n",
              "    .dataframe thead th {\n",
              "        text-align: right;\n",
              "    }\n",
              "</style>\n",
              "<table border=\"1\" class=\"dataframe\">\n",
              "  <thead>\n",
              "    <tr style=\"text-align: right;\">\n",
              "      <th></th>\n",
              "      <th>brokered_by</th>\n",
              "      <th>status</th>\n",
              "      <th>price</th>\n",
              "      <th>bed</th>\n",
              "      <th>bath</th>\n",
              "      <th>acre_lot</th>\n",
              "      <th>street</th>\n",
              "      <th>city</th>\n",
              "      <th>state</th>\n",
              "      <th>zip_code</th>\n",
              "      <th>house_size</th>\n",
              "      <th>prev_sold_date</th>\n",
              "    </tr>\n",
              "  </thead>\n",
              "  <tbody>\n",
              "    <tr>\n",
              "      <th>0</th>\n",
              "      <td>103378.0</td>\n",
              "      <td>for_sale</td>\n",
              "      <td>105000.0</td>\n",
              "      <td>3.0</td>\n",
              "      <td>2.0</td>\n",
              "      <td>0.12</td>\n",
              "      <td>1962661.0</td>\n",
              "      <td>Adjuntas</td>\n",
              "      <td>Puerto Rico</td>\n",
              "      <td>601.0</td>\n",
              "      <td>920.0</td>\n",
              "      <td>NaN</td>\n",
              "    </tr>\n",
              "    <tr>\n",
              "      <th>1</th>\n",
              "      <td>52707.0</td>\n",
              "      <td>for_sale</td>\n",
              "      <td>80000.0</td>\n",
              "      <td>4.0</td>\n",
              "      <td>2.0</td>\n",
              "      <td>0.08</td>\n",
              "      <td>1902874.0</td>\n",
              "      <td>Adjuntas</td>\n",
              "      <td>Puerto Rico</td>\n",
              "      <td>601.0</td>\n",
              "      <td>1527.0</td>\n",
              "      <td>NaN</td>\n",
              "    </tr>\n",
              "    <tr>\n",
              "      <th>2</th>\n",
              "      <td>103379.0</td>\n",
              "      <td>for_sale</td>\n",
              "      <td>67000.0</td>\n",
              "      <td>2.0</td>\n",
              "      <td>1.0</td>\n",
              "      <td>0.15</td>\n",
              "      <td>1404990.0</td>\n",
              "      <td>Juana Diaz</td>\n",
              "      <td>Puerto Rico</td>\n",
              "      <td>795.0</td>\n",
              "      <td>748.0</td>\n",
              "      <td>NaN</td>\n",
              "    </tr>\n",
              "    <tr>\n",
              "      <th>3</th>\n",
              "      <td>31239.0</td>\n",
              "      <td>for_sale</td>\n",
              "      <td>145000.0</td>\n",
              "      <td>4.0</td>\n",
              "      <td>2.0</td>\n",
              "      <td>0.10</td>\n",
              "      <td>1947675.0</td>\n",
              "      <td>Ponce</td>\n",
              "      <td>Puerto Rico</td>\n",
              "      <td>731.0</td>\n",
              "      <td>1800.0</td>\n",
              "      <td>NaN</td>\n",
              "    </tr>\n",
              "    <tr>\n",
              "      <th>4</th>\n",
              "      <td>34632.0</td>\n",
              "      <td>for_sale</td>\n",
              "      <td>65000.0</td>\n",
              "      <td>6.0</td>\n",
              "      <td>2.0</td>\n",
              "      <td>0.05</td>\n",
              "      <td>331151.0</td>\n",
              "      <td>Mayaguez</td>\n",
              "      <td>Puerto Rico</td>\n",
              "      <td>680.0</td>\n",
              "      <td>NaN</td>\n",
              "      <td>NaN</td>\n",
              "    </tr>\n",
              "    <tr>\n",
              "      <th>...</th>\n",
              "      <td>...</td>\n",
              "      <td>...</td>\n",
              "      <td>...</td>\n",
              "      <td>...</td>\n",
              "      <td>...</td>\n",
              "      <td>...</td>\n",
              "      <td>...</td>\n",
              "      <td>...</td>\n",
              "      <td>...</td>\n",
              "      <td>...</td>\n",
              "      <td>...</td>\n",
              "      <td>...</td>\n",
              "    </tr>\n",
              "    <tr>\n",
              "      <th>2226377</th>\n",
              "      <td>23009.0</td>\n",
              "      <td>sold</td>\n",
              "      <td>359900.0</td>\n",
              "      <td>4.0</td>\n",
              "      <td>2.0</td>\n",
              "      <td>0.33</td>\n",
              "      <td>353094.0</td>\n",
              "      <td>Richland</td>\n",
              "      <td>Washington</td>\n",
              "      <td>99354.0</td>\n",
              "      <td>3600.0</td>\n",
              "      <td>2022-03-25</td>\n",
              "    </tr>\n",
              "    <tr>\n",
              "      <th>2226378</th>\n",
              "      <td>18208.0</td>\n",
              "      <td>sold</td>\n",
              "      <td>350000.0</td>\n",
              "      <td>3.0</td>\n",
              "      <td>2.0</td>\n",
              "      <td>0.10</td>\n",
              "      <td>1062149.0</td>\n",
              "      <td>Richland</td>\n",
              "      <td>Washington</td>\n",
              "      <td>99354.0</td>\n",
              "      <td>1616.0</td>\n",
              "      <td>2022-03-25</td>\n",
              "    </tr>\n",
              "    <tr>\n",
              "      <th>2226379</th>\n",
              "      <td>76856.0</td>\n",
              "      <td>sold</td>\n",
              "      <td>440000.0</td>\n",
              "      <td>6.0</td>\n",
              "      <td>3.0</td>\n",
              "      <td>0.50</td>\n",
              "      <td>405677.0</td>\n",
              "      <td>Richland</td>\n",
              "      <td>Washington</td>\n",
              "      <td>99354.0</td>\n",
              "      <td>3200.0</td>\n",
              "      <td>2022-03-24</td>\n",
              "    </tr>\n",
              "    <tr>\n",
              "      <th>2226380</th>\n",
              "      <td>53618.0</td>\n",
              "      <td>sold</td>\n",
              "      <td>179900.0</td>\n",
              "      <td>2.0</td>\n",
              "      <td>1.0</td>\n",
              "      <td>0.09</td>\n",
              "      <td>761379.0</td>\n",
              "      <td>Richland</td>\n",
              "      <td>Washington</td>\n",
              "      <td>99354.0</td>\n",
              "      <td>933.0</td>\n",
              "      <td>2022-03-24</td>\n",
              "    </tr>\n",
              "    <tr>\n",
              "      <th>2226381</th>\n",
              "      <td>108243.0</td>\n",
              "      <td>sold</td>\n",
              "      <td>580000.0</td>\n",
              "      <td>5.0</td>\n",
              "      <td>3.0</td>\n",
              "      <td>0.31</td>\n",
              "      <td>307704.0</td>\n",
              "      <td>Richland</td>\n",
              "      <td>Washington</td>\n",
              "      <td>99354.0</td>\n",
              "      <td>3615.0</td>\n",
              "      <td>2022-03-23</td>\n",
              "    </tr>\n",
              "  </tbody>\n",
              "</table>\n",
              "<p>2226382 rows × 12 columns</p>\n",
              "</div>"
            ],
            "text/plain": [
              "         brokered_by    status     price  bed  bath  acre_lot     street  \\\n",
              "0           103378.0  for_sale  105000.0  3.0   2.0      0.12  1962661.0   \n",
              "1            52707.0  for_sale   80000.0  4.0   2.0      0.08  1902874.0   \n",
              "2           103379.0  for_sale   67000.0  2.0   1.0      0.15  1404990.0   \n",
              "3            31239.0  for_sale  145000.0  4.0   2.0      0.10  1947675.0   \n",
              "4            34632.0  for_sale   65000.0  6.0   2.0      0.05   331151.0   \n",
              "...              ...       ...       ...  ...   ...       ...        ...   \n",
              "2226377      23009.0      sold  359900.0  4.0   2.0      0.33   353094.0   \n",
              "2226378      18208.0      sold  350000.0  3.0   2.0      0.10  1062149.0   \n",
              "2226379      76856.0      sold  440000.0  6.0   3.0      0.50   405677.0   \n",
              "2226380      53618.0      sold  179900.0  2.0   1.0      0.09   761379.0   \n",
              "2226381     108243.0      sold  580000.0  5.0   3.0      0.31   307704.0   \n",
              "\n",
              "               city        state  zip_code  house_size prev_sold_date  \n",
              "0          Adjuntas  Puerto Rico     601.0       920.0            NaN  \n",
              "1          Adjuntas  Puerto Rico     601.0      1527.0            NaN  \n",
              "2        Juana Diaz  Puerto Rico     795.0       748.0            NaN  \n",
              "3             Ponce  Puerto Rico     731.0      1800.0            NaN  \n",
              "4          Mayaguez  Puerto Rico     680.0         NaN            NaN  \n",
              "...             ...          ...       ...         ...            ...  \n",
              "2226377    Richland   Washington   99354.0      3600.0     2022-03-25  \n",
              "2226378    Richland   Washington   99354.0      1616.0     2022-03-25  \n",
              "2226379    Richland   Washington   99354.0      3200.0     2022-03-24  \n",
              "2226380    Richland   Washington   99354.0       933.0     2022-03-24  \n",
              "2226381    Richland   Washington   99354.0      3615.0     2022-03-23  \n",
              "\n",
              "[2226382 rows x 12 columns]"
            ]
          },
          "execution_count": 17,
          "metadata": {},
          "output_type": "execute_result"
        }
      ],
      "source": [
        "properties_df"
      ]
    },
    {
      "cell_type": "markdown",
      "metadata": {
        "id": "fL4vpp545nI6"
      },
      "source": [
        "## <span style=\"color:#ff5f27;\"> Data Cleaning"
      ]
    },
    {
      "cell_type": "code",
      "execution_count": 18,
      "metadata": {
        "colab": {
          "base_uri": "https://localhost:8080/"
        },
        "id": "xswABUje5p34",
        "outputId": "9aa80e90-b96e-40e5-da98-ea0cffd971b7"
      },
      "outputs": [
        {
          "name": "stdout",
          "output_type": "stream",
          "text": [
            "<class 'pandas.core.frame.DataFrame'>\n",
            "RangeIndex: 2226382 entries, 0 to 2226381\n",
            "Data columns (total 12 columns):\n",
            " #   Column          Dtype  \n",
            "---  ------          -----  \n",
            " 0   brokered_by     float64\n",
            " 1   status          object \n",
            " 2   price           float64\n",
            " 3   bed             float64\n",
            " 4   bath            float64\n",
            " 5   acre_lot        float64\n",
            " 6   street          float64\n",
            " 7   city            object \n",
            " 8   state           object \n",
            " 9   zip_code        float64\n",
            " 10  house_size      float64\n",
            " 11  prev_sold_date  object \n",
            "dtypes: float64(8), object(4)\n",
            "memory usage: 203.8+ MB\n"
          ]
        }
      ],
      "source": [
        "properties_df.info()"
      ]
    },
    {
      "cell_type": "markdown",
      "metadata": {
        "id": "WOLGZAhccvSC"
      },
      "source": [
        "Drop null values"
      ]
    },
    {
      "cell_type": "code",
      "execution_count": 19,
      "metadata": {
        "id": "iDE2mhxM6CcO"
      },
      "outputs": [],
      "source": [
        "properties_df.dropna(inplace=True)"
      ]
    },
    {
      "cell_type": "markdown",
      "metadata": {
        "id": "xL28SuLBneW9"
      },
      "source": [
        "Convert column names to lowercase"
      ]
    },
    {
      "cell_type": "code",
      "execution_count": 13,
      "metadata": {
        "id": "HftQQvMXdk7z"
      },
      "outputs": [],
      "source": [
        "# Convert column names to lowercase\n",
        "properties_df.columns = properties_df.columns.str.lower()"
      ]
    },
    {
      "cell_type": "markdown",
      "metadata": {
        "id": "gfKLYefTc8sS"
      },
      "source": [
        "**Evaluating candidate features for properties fg**\n",
        "\n",
        "Primary key:\n",
        "* id\n",
        "\n",
        "Timestamp:\n",
        "* scraping_date\n",
        "\n",
        "Numerical features:\n",
        "* agencyid\n",
        "* bedroomsnumber\n",
        "* buildingyear\n",
        "* codcom\n",
        "* gsm\n",
        "* surface\n",
        "* latitude\n",
        "* longitude\n",
        "\n",
        "Boolean features:\n",
        "* isluxury\n",
        "* isnew\n",
        "* on_the_market\n",
        "* zeroenergybuilding\n",
        "\n",
        "Categorical features:\n",
        "* airconditioning\n",
        "* bathrooms\n",
        "* city\n",
        "* condition\n",
        "* energyclass\n",
        "* ga4heating\n",
        "* garage\n",
        "* heatingtype\n",
        "* pricerange\n",
        "* rooms\n",
        "* id_zona_omi\n",
        "\n",
        "Label:\n",
        "* price"
      ]
    },
    {
      "cell_type": "code",
      "execution_count": 20,
      "metadata": {
        "id": "fjvt5JkCetBL"
      },
      "outputs": [],
      "source": [
        "# properties selected columns\n",
        "properties_df = properties_df[['brokered_by', 'status', 'price', 'bed', 'bath', 'acre_lot', 'street',\n",
        "       'city', 'state', 'zip_code', 'house_size','prev_sold_date' ]]"
      ]
    },
    {
      "cell_type": "code",
      "execution_count": 21,
      "metadata": {
        "id": "wvREqnp6ibmu"
      },
      "outputs": [],
      "source": [
        "properties_df['prev_sold_date'] = pd.to_datetime(properties_df['prev_sold_date'])\n",
        "# properties_df = properties_df.sort_values(by=['scraping_date'])"
      ]
    },
    {
      "cell_type": "code",
      "execution_count": 27,
      "metadata": {
        "colab": {
          "base_uri": "https://localhost:8080/",
          "height": 947
        },
        "id": "qK_CQXntfTbp",
        "outputId": "9cec465d-e60c-4003-92f6-4a4a34b3625c"
      },
      "outputs": [],
      "source": [
        "properties_df.reset_index(inplace=True)"
      ]
    },
    {
      "cell_type": "code",
      "execution_count": 28,
      "metadata": {},
      "outputs": [
        {
          "data": {
            "text/html": [
              "<div>\n",
              "<style scoped>\n",
              "    .dataframe tbody tr th:only-of-type {\n",
              "        vertical-align: middle;\n",
              "    }\n",
              "\n",
              "    .dataframe tbody tr th {\n",
              "        vertical-align: top;\n",
              "    }\n",
              "\n",
              "    .dataframe thead th {\n",
              "        text-align: right;\n",
              "    }\n",
              "</style>\n",
              "<table border=\"1\" class=\"dataframe\">\n",
              "  <thead>\n",
              "    <tr style=\"text-align: right;\">\n",
              "      <th></th>\n",
              "      <th>index</th>\n",
              "      <th>brokered_by</th>\n",
              "      <th>status</th>\n",
              "      <th>price</th>\n",
              "      <th>bed</th>\n",
              "      <th>bath</th>\n",
              "      <th>acre_lot</th>\n",
              "      <th>street</th>\n",
              "      <th>city</th>\n",
              "      <th>state</th>\n",
              "      <th>zip_code</th>\n",
              "      <th>house_size</th>\n",
              "      <th>prev_sold_date</th>\n",
              "    </tr>\n",
              "  </thead>\n",
              "  <tbody>\n",
              "    <tr>\n",
              "      <th>0</th>\n",
              "      <td>502</td>\n",
              "      <td>92147.0</td>\n",
              "      <td>for_sale</td>\n",
              "      <td>110000.0</td>\n",
              "      <td>7.0</td>\n",
              "      <td>3.0</td>\n",
              "      <td>0.09</td>\n",
              "      <td>1842706.0</td>\n",
              "      <td>Dorado</td>\n",
              "      <td>Puerto Rico</td>\n",
              "      <td>949.0</td>\n",
              "      <td>1192.0</td>\n",
              "      <td>2019-06-28</td>\n",
              "    </tr>\n",
              "    <tr>\n",
              "      <th>1</th>\n",
              "      <td>2270</td>\n",
              "      <td>94933.0</td>\n",
              "      <td>for_sale</td>\n",
              "      <td>950000.0</td>\n",
              "      <td>5.0</td>\n",
              "      <td>4.0</td>\n",
              "      <td>0.99</td>\n",
              "      <td>1260473.0</td>\n",
              "      <td>Saint Thomas</td>\n",
              "      <td>Virgin Islands</td>\n",
              "      <td>802.0</td>\n",
              "      <td>5000.0</td>\n",
              "      <td>2013-10-11</td>\n",
              "    </tr>\n",
              "    <tr>\n",
              "      <th>2</th>\n",
              "      <td>2277</td>\n",
              "      <td>103341.0</td>\n",
              "      <td>for_sale</td>\n",
              "      <td>6899000.0</td>\n",
              "      <td>4.0</td>\n",
              "      <td>6.0</td>\n",
              "      <td>0.83</td>\n",
              "      <td>17467.0</td>\n",
              "      <td>Saint Thomas</td>\n",
              "      <td>Virgin Islands</td>\n",
              "      <td>802.0</td>\n",
              "      <td>4600.0</td>\n",
              "      <td>2018-04-05</td>\n",
              "    </tr>\n",
              "    <tr>\n",
              "      <th>3</th>\n",
              "      <td>3409</td>\n",
              "      <td>21163.0</td>\n",
              "      <td>for_sale</td>\n",
              "      <td>525000.0</td>\n",
              "      <td>3.0</td>\n",
              "      <td>3.0</td>\n",
              "      <td>0.45</td>\n",
              "      <td>1813270.0</td>\n",
              "      <td>Agawam</td>\n",
              "      <td>Massachusetts</td>\n",
              "      <td>1001.0</td>\n",
              "      <td>2314.0</td>\n",
              "      <td>2014-06-25</td>\n",
              "    </tr>\n",
              "    <tr>\n",
              "      <th>4</th>\n",
              "      <td>3410</td>\n",
              "      <td>67455.0</td>\n",
              "      <td>for_sale</td>\n",
              "      <td>289900.0</td>\n",
              "      <td>3.0</td>\n",
              "      <td>2.0</td>\n",
              "      <td>0.36</td>\n",
              "      <td>1698080.0</td>\n",
              "      <td>Agawam</td>\n",
              "      <td>Massachusetts</td>\n",
              "      <td>1001.0</td>\n",
              "      <td>1276.0</td>\n",
              "      <td>2012-10-12</td>\n",
              "    </tr>\n",
              "    <tr>\n",
              "      <th>...</th>\n",
              "      <td>...</td>\n",
              "      <td>...</td>\n",
              "      <td>...</td>\n",
              "      <td>...</td>\n",
              "      <td>...</td>\n",
              "      <td>...</td>\n",
              "      <td>...</td>\n",
              "      <td>...</td>\n",
              "      <td>...</td>\n",
              "      <td>...</td>\n",
              "      <td>...</td>\n",
              "      <td>...</td>\n",
              "      <td>...</td>\n",
              "    </tr>\n",
              "    <tr>\n",
              "      <th>1084904</th>\n",
              "      <td>2226377</td>\n",
              "      <td>23009.0</td>\n",
              "      <td>sold</td>\n",
              "      <td>359900.0</td>\n",
              "      <td>4.0</td>\n",
              "      <td>2.0</td>\n",
              "      <td>0.33</td>\n",
              "      <td>353094.0</td>\n",
              "      <td>Richland</td>\n",
              "      <td>Washington</td>\n",
              "      <td>99354.0</td>\n",
              "      <td>3600.0</td>\n",
              "      <td>2022-03-25</td>\n",
              "    </tr>\n",
              "    <tr>\n",
              "      <th>1084905</th>\n",
              "      <td>2226378</td>\n",
              "      <td>18208.0</td>\n",
              "      <td>sold</td>\n",
              "      <td>350000.0</td>\n",
              "      <td>3.0</td>\n",
              "      <td>2.0</td>\n",
              "      <td>0.10</td>\n",
              "      <td>1062149.0</td>\n",
              "      <td>Richland</td>\n",
              "      <td>Washington</td>\n",
              "      <td>99354.0</td>\n",
              "      <td>1616.0</td>\n",
              "      <td>2022-03-25</td>\n",
              "    </tr>\n",
              "    <tr>\n",
              "      <th>1084906</th>\n",
              "      <td>2226379</td>\n",
              "      <td>76856.0</td>\n",
              "      <td>sold</td>\n",
              "      <td>440000.0</td>\n",
              "      <td>6.0</td>\n",
              "      <td>3.0</td>\n",
              "      <td>0.50</td>\n",
              "      <td>405677.0</td>\n",
              "      <td>Richland</td>\n",
              "      <td>Washington</td>\n",
              "      <td>99354.0</td>\n",
              "      <td>3200.0</td>\n",
              "      <td>2022-03-24</td>\n",
              "    </tr>\n",
              "    <tr>\n",
              "      <th>1084907</th>\n",
              "      <td>2226380</td>\n",
              "      <td>53618.0</td>\n",
              "      <td>sold</td>\n",
              "      <td>179900.0</td>\n",
              "      <td>2.0</td>\n",
              "      <td>1.0</td>\n",
              "      <td>0.09</td>\n",
              "      <td>761379.0</td>\n",
              "      <td>Richland</td>\n",
              "      <td>Washington</td>\n",
              "      <td>99354.0</td>\n",
              "      <td>933.0</td>\n",
              "      <td>2022-03-24</td>\n",
              "    </tr>\n",
              "    <tr>\n",
              "      <th>1084908</th>\n",
              "      <td>2226381</td>\n",
              "      <td>108243.0</td>\n",
              "      <td>sold</td>\n",
              "      <td>580000.0</td>\n",
              "      <td>5.0</td>\n",
              "      <td>3.0</td>\n",
              "      <td>0.31</td>\n",
              "      <td>307704.0</td>\n",
              "      <td>Richland</td>\n",
              "      <td>Washington</td>\n",
              "      <td>99354.0</td>\n",
              "      <td>3615.0</td>\n",
              "      <td>2022-03-23</td>\n",
              "    </tr>\n",
              "  </tbody>\n",
              "</table>\n",
              "<p>1084909 rows × 13 columns</p>\n",
              "</div>"
            ],
            "text/plain": [
              "           index  brokered_by    status      price  bed  bath  acre_lot  \\\n",
              "0            502      92147.0  for_sale   110000.0  7.0   3.0      0.09   \n",
              "1           2270      94933.0  for_sale   950000.0  5.0   4.0      0.99   \n",
              "2           2277     103341.0  for_sale  6899000.0  4.0   6.0      0.83   \n",
              "3           3409      21163.0  for_sale   525000.0  3.0   3.0      0.45   \n",
              "4           3410      67455.0  for_sale   289900.0  3.0   2.0      0.36   \n",
              "...          ...          ...       ...        ...  ...   ...       ...   \n",
              "1084904  2226377      23009.0      sold   359900.0  4.0   2.0      0.33   \n",
              "1084905  2226378      18208.0      sold   350000.0  3.0   2.0      0.10   \n",
              "1084906  2226379      76856.0      sold   440000.0  6.0   3.0      0.50   \n",
              "1084907  2226380      53618.0      sold   179900.0  2.0   1.0      0.09   \n",
              "1084908  2226381     108243.0      sold   580000.0  5.0   3.0      0.31   \n",
              "\n",
              "            street          city           state  zip_code  house_size  \\\n",
              "0        1842706.0        Dorado     Puerto Rico     949.0      1192.0   \n",
              "1        1260473.0  Saint Thomas  Virgin Islands     802.0      5000.0   \n",
              "2          17467.0  Saint Thomas  Virgin Islands     802.0      4600.0   \n",
              "3        1813270.0        Agawam   Massachusetts    1001.0      2314.0   \n",
              "4        1698080.0        Agawam   Massachusetts    1001.0      1276.0   \n",
              "...            ...           ...             ...       ...         ...   \n",
              "1084904   353094.0      Richland      Washington   99354.0      3600.0   \n",
              "1084905  1062149.0      Richland      Washington   99354.0      1616.0   \n",
              "1084906   405677.0      Richland      Washington   99354.0      3200.0   \n",
              "1084907   761379.0      Richland      Washington   99354.0       933.0   \n",
              "1084908   307704.0      Richland      Washington   99354.0      3615.0   \n",
              "\n",
              "        prev_sold_date  \n",
              "0           2019-06-28  \n",
              "1           2013-10-11  \n",
              "2           2018-04-05  \n",
              "3           2014-06-25  \n",
              "4           2012-10-12  \n",
              "...                ...  \n",
              "1084904     2022-03-25  \n",
              "1084905     2022-03-25  \n",
              "1084906     2022-03-24  \n",
              "1084907     2022-03-24  \n",
              "1084908     2022-03-23  \n",
              "\n",
              "[1084909 rows x 13 columns]"
            ]
          },
          "execution_count": 28,
          "metadata": {},
          "output_type": "execute_result"
        }
      ],
      "source": [
        "properties_df"
      ]
    },
    {
      "cell_type": "markdown",
      "metadata": {
        "id": "3HWrH38k7C1M"
      },
      "source": [
        "## <span style=\"color:#ff5f27;\"> 🪄 Creating Feature Groups </span>"
      ]
    },
    {
      "cell_type": "code",
      "execution_count": 23,
      "metadata": {
        "id": "rMxz4l5c-m3d"
      },
      "outputs": [],
      "source": [
        "fs = proj.get_feature_store()"
      ]
    },
    {
      "cell_type": "code",
      "execution_count": 24,
      "metadata": {},
      "outputs": [
        {
          "data": {
            "text/plain": [
              "<hsfs.feature_store.FeatureStore at 0x1cbc6190280>"
            ]
          },
          "execution_count": 24,
          "metadata": {},
          "output_type": "execute_result"
        }
      ],
      "source": [
        "fs"
      ]
    },
    {
      "cell_type": "code",
      "execution_count": 29,
      "metadata": {
        "id": "GshScOj77D5b"
      },
      "outputs": [],
      "source": [
        "# Get or create the 'properties' feature group\n",
        "properties_fg = fs.get_or_create_feature_group(\n",
        "    name='properties',\n",
        "    version=4,                                                 # Breaking version\n",
        "    description='Property Features and Corresponding Prices',\n",
        "    online_enabled=True,                                       # Necessary for online inference\n",
        "    primary_key=['index'],\n",
        "    event_time='prev_sold_date',\n",
        ")"
      ]
    },
    {
      "cell_type": "code",
      "execution_count": 30,
      "metadata": {
        "colab": {
          "base_uri": "https://localhost:8080/"
        },
        "id": "hkVwQfSC-1Zz",
        "outputId": "f4c44d83-ea9a-49a6-cab6-463deb4e1fee"
      },
      "outputs": [
        {
          "name": "stdout",
          "output_type": "stream",
          "text": [
            "Feature Group created successfully, explore it at \n",
            "https://c.app.hopsworks.ai:443/p/1222838/fs/1209447/fg/1435249\n"
          ]
        },
        {
          "name": "stderr",
          "output_type": "stream",
          "text": [
            "Uploading Dataframe: 100.00% |██████████| Rows 1084909/1084909 | Elapsed Time: 00:52 | Remaining Time: 00:00\n"
          ]
        },
        {
          "name": "stdout",
          "output_type": "stream",
          "text": [
            "Launching job: properties_4_offline_fg_materialization\n",
            "Job started successfully, you can follow the progress at \n",
            "https://c.app.hopsworks.ai:443/p/1222838/jobs/named/properties_4_offline_fg_materialization/executions\n"
          ]
        },
        {
          "data": {
            "text/plain": [
              "(Job('properties_4_offline_fg_materialization', 'SPARK'), None)"
            ]
          },
          "execution_count": 30,
          "metadata": {},
          "output_type": "execute_result"
        }
      ],
      "source": [
        "# Insert data into feature group\n",
        "properties_fg.insert(properties_df)"
      ]
    },
    {
      "cell_type": "code",
      "execution_count": 31,
      "metadata": {},
      "outputs": [],
      "source": [
        "properties_df.to_csv(\"E:\\Learning\\house-price-prediction\\src\\data_scrapper\\properties.csv\")"
      ]
    },
    {
      "cell_type": "code",
      "execution_count": null,
      "metadata": {
        "id": "HqckIXYq7KmN"
      },
      "outputs": [],
      "source": [
        "omi_fg = fs.get_or_create_feature_group(\n",
        "    name='omi',\n",
        "    version=2,\n",
        "    description='OMI information',\n",
        "    online_enabled=True,\n",
        "    primary_key=['id_zona_omi'],\n",
        ")"
      ]
    },
    {
      "cell_type": "code",
      "execution_count": null,
      "metadata": {
        "colab": {
          "base_uri": "https://localhost:8080/"
        },
        "id": "y2PCBaTV-7By",
        "outputId": "5d3121d3-4a93-4f76-cb14-52cc38b9b42b"
      },
      "outputs": [
        {
          "name": "stdout",
          "output_type": "stream",
          "text": [
            "Feature Group created successfully, explore it at \n",
            "https://c.app.hopsworks.ai:443/p/1158295/fs/1148998/fg/1392972\n"
          ]
        },
        {
          "name": "stderr",
          "output_type": "stream",
          "text": [
            "Uploading Dataframe: 100.00% |██████████| Rows 240570/240570 | Elapsed Time: 00:14 | Remaining Time: 00:00\n"
          ]
        },
        {
          "name": "stdout",
          "output_type": "stream",
          "text": [
            "Launching job: omi_2_offline_fg_materialization\n",
            "Job started successfully, you can follow the progress at \n",
            "https://c.app.hopsworks.ai:443/p/1158295/jobs/named/omi_2_offline_fg_materialization/executions\n"
          ]
        },
        {
          "data": {
            "text/plain": [
              "(Job('omi_2_offline_fg_materialization', 'SPARK'), None)"
            ]
          },
          "execution_count": 38,
          "metadata": {},
          "output_type": "execute_result"
        }
      ],
      "source": [
        "# Insert data into feature group\n",
        "omi_fg.insert(omi_df)"
      ]
    }
  ],
  "metadata": {
    "colab": {
      "provenance": []
    },
    "kernelspec": {
      "display_name": "housepriceenv",
      "language": "python",
      "name": "python3"
    },
    "language_info": {
      "codemirror_mode": {
        "name": "ipython",
        "version": 3
      },
      "file_extension": ".py",
      "mimetype": "text/x-python",
      "name": "python",
      "nbconvert_exporter": "python",
      "pygments_lexer": "ipython3",
      "version": "3.10.16"
    }
  },
  "nbformat": 4,
  "nbformat_minor": 0
}
